{
  "cells": [
    {
      "cell_type": "code",
      "execution_count": 5,
      "metadata": {
        "colab": {
          "base_uri": "https://localhost:8080/"
        },
        "id": "GeHVsHxfnTbW",
        "outputId": "bdc4ef84-31e5-441c-b5af-89d150891a46"
      },
      "outputs": [
        {
          "name": "stdout",
          "output_type": "stream",
          "text": [
            "Requirement already satisfied: pandas in /Users/riskihajar/miniconda3/envs/klasifikasi-tweet-banjir/lib/python3.11/site-packages (2.3.0)\n",
            "Requirement already satisfied: scikit-learn in /Users/riskihajar/miniconda3/envs/klasifikasi-tweet-banjir/lib/python3.11/site-packages (1.7.0)\n",
            "Requirement already satisfied: Sastrawi in /Users/riskihajar/miniconda3/envs/klasifikasi-tweet-banjir/lib/python3.11/site-packages (1.0.1)\n",
            "Requirement already satisfied: matplotlib in /Users/riskihajar/miniconda3/envs/klasifikasi-tweet-banjir/lib/python3.11/site-packages (3.10.3)\n",
            "Collecting seaborn\n",
            "  Using cached seaborn-0.13.2-py3-none-any.whl.metadata (5.4 kB)\n",
            "Requirement already satisfied: numpy>=1.23.2 in /Users/riskihajar/miniconda3/envs/klasifikasi-tweet-banjir/lib/python3.11/site-packages (from pandas) (2.3.0)\n",
            "Requirement already satisfied: python-dateutil>=2.8.2 in /Users/riskihajar/miniconda3/envs/klasifikasi-tweet-banjir/lib/python3.11/site-packages (from pandas) (2.9.0.post0)\n",
            "Requirement already satisfied: pytz>=2020.1 in /Users/riskihajar/miniconda3/envs/klasifikasi-tweet-banjir/lib/python3.11/site-packages (from pandas) (2025.2)\n",
            "Requirement already satisfied: tzdata>=2022.7 in /Users/riskihajar/miniconda3/envs/klasifikasi-tweet-banjir/lib/python3.11/site-packages (from pandas) (2025.2)\n",
            "Requirement already satisfied: scipy>=1.8.0 in /Users/riskihajar/miniconda3/envs/klasifikasi-tweet-banjir/lib/python3.11/site-packages (from scikit-learn) (1.15.3)\n",
            "Requirement already satisfied: joblib>=1.2.0 in /Users/riskihajar/miniconda3/envs/klasifikasi-tweet-banjir/lib/python3.11/site-packages (from scikit-learn) (1.5.1)\n",
            "Requirement already satisfied: threadpoolctl>=3.1.0 in /Users/riskihajar/miniconda3/envs/klasifikasi-tweet-banjir/lib/python3.11/site-packages (from scikit-learn) (3.6.0)\n",
            "Requirement already satisfied: contourpy>=1.0.1 in /Users/riskihajar/miniconda3/envs/klasifikasi-tweet-banjir/lib/python3.11/site-packages (from matplotlib) (1.3.2)\n",
            "Requirement already satisfied: cycler>=0.10 in /Users/riskihajar/miniconda3/envs/klasifikasi-tweet-banjir/lib/python3.11/site-packages (from matplotlib) (0.12.1)\n",
            "Requirement already satisfied: fonttools>=4.22.0 in /Users/riskihajar/miniconda3/envs/klasifikasi-tweet-banjir/lib/python3.11/site-packages (from matplotlib) (4.58.2)\n",
            "Requirement already satisfied: kiwisolver>=1.3.1 in /Users/riskihajar/miniconda3/envs/klasifikasi-tweet-banjir/lib/python3.11/site-packages (from matplotlib) (1.4.8)\n",
            "Requirement already satisfied: packaging>=20.0 in /Users/riskihajar/.local/lib/python3.11/site-packages (from matplotlib) (25.0)\n",
            "Requirement already satisfied: pillow>=8 in /Users/riskihajar/miniconda3/envs/klasifikasi-tweet-banjir/lib/python3.11/site-packages (from matplotlib) (11.2.1)\n",
            "Requirement already satisfied: pyparsing>=2.3.1 in /Users/riskihajar/miniconda3/envs/klasifikasi-tweet-banjir/lib/python3.11/site-packages (from matplotlib) (3.2.3)\n",
            "Requirement already satisfied: six>=1.5 in /Users/riskihajar/miniconda3/envs/klasifikasi-tweet-banjir/lib/python3.11/site-packages (from python-dateutil>=2.8.2->pandas) (1.17.0)\n",
            "Using cached seaborn-0.13.2-py3-none-any.whl (294 kB)\n",
            "Installing collected packages: seaborn\n",
            "Successfully installed seaborn-0.13.2\n"
          ]
        }
      ],
      "source": [
        "!pip install pandas scikit-learn Sastrawi matplotlib seaborn"
      ]
    },
    {
      "cell_type": "code",
      "execution_count": 6,
      "metadata": {
        "id": "Y6-q5Onnrgtc"
      },
      "outputs": [],
      "source": [
        "import pandas as pd\n",
        "import re\n",
        "from Sastrawi.Stemmer.StemmerFactory import StemmerFactory\n",
        "\n",
        "from sklearn.model_selection import train_test_split\n",
        "from sklearn.feature_extraction.text import TfidfVectorizer\n",
        "from sklearn.linear_model import LogisticRegression\n",
        "from sklearn.pipeline import Pipeline\n",
        "from sklearn.metrics import classification_report, confusion_matrix\n",
        "\n",
        "import matplotlib.pyplot as plt\n",
        "import seaborn as sns"
      ]
    },
    {
      "cell_type": "code",
      "execution_count": 7,
      "metadata": {
        "colab": {
          "base_uri": "https://localhost:8080/"
        },
        "id": "9H1JEDGSrpSZ",
        "outputId": "6fb707e6-202d-45db-e6df-f84ab6172bda"
      },
      "outputs": [
        {
          "name": "stdout",
          "output_type": "stream",
          "text": [
            "Langkah 1: Memuat dan Melabeli Data...\n",
            "\n",
            "Total tweet ditemukan: 4980\n",
            "Total tweet yang berhasil dilabeli: 1558\n",
            "\n",
            "Distribusi Konteks:\n",
            "konteks\n",
            "metafora    955\n",
            "bencana     603\n",
            "Name: count, dtype: int64\n"
          ]
        }
      ],
      "source": [
        "# --- 1. MEMUAT DAN MEMBERI LABEL PADA DATA ---\n",
        "print(\"Langkah 1: Memuat dan Melabeli Data...\")\n",
        "\n",
        "try:\n",
        "    # Memuat data dari file CSV yang diunggah\n",
        "    # Pastikan file 'tweets.csv' ada di direktori yang sama\n",
        "    tweets_df = pd.read_csv('tweets.csv')\n",
        "except FileNotFoundError:\n",
        "    print(\"Error: Pastikan file 'tweets.csv' berada di direktori yang sama dengan skrip ini.\")\n",
        "    exit()\n",
        "\n",
        "# Mengambil kolom 'text' dan memfilter hanya yang mengandung kata 'banjir'\n",
        "tweets_df = tweets_df[['text']].dropna()\n",
        "tweets_df = tweets_df[tweets_df['text'].str.contains('banjir', case=False)].copy()\n",
        "\n",
        "def label_konteks(text):\n",
        "    \"\"\"Memberi label pada teks berdasarkan kata kunci untuk konteks 'bencana' atau 'metafora'.\"\"\"\n",
        "    text_lower = text.lower()\n",
        "\n",
        "    # Kata kunci untuk konteks BENCANA ALAM\n",
        "    konteks_bencana = ['rob', 'rumah', 'warga', 'kabupaten', 'terendam', 'panen', 'kekeringan', 'dampak', 'gagal panen', 'melanda']\n",
        "\n",
        "    # Kata kunci untuk konteks METAFORA\n",
        "    konteks_metafora = ['orderan', 'ompol', 'nangis', 'win', 'au angst', 'joki', 'cuan', 'drh' , 'darah', 'air mata']\n",
        "\n",
        "    if any(keyword in text_lower for keyword in konteks_bencana):\n",
        "        return 'bencana'\n",
        "    if any(keyword in text_lower for keyword in konteks_metafora):\n",
        "        return 'metafora'\n",
        "\n",
        "    return 'tidak terdefinisi'\n",
        "\n",
        "# Menerapkan fungsi pelabelan dan membuang yang tidak terdefinisi\n",
        "tweets_df['konteks'] = tweets_df['text'].apply(label_konteks)\n",
        "labeled_df = tweets_df[tweets_df['konteks'] != 'tidak terdefinisi'].copy()\n",
        "\n",
        "print(f\"\\nTotal tweet ditemukan: {len(tweets_df)}\")\n",
        "print(f\"Total tweet yang berhasil dilabeli: {len(labeled_df)}\")\n",
        "print(\"\\nDistribusi Konteks:\")\n",
        "print(labeled_df['konteks'].value_counts())"
      ]
    },
    {
      "cell_type": "code",
      "execution_count": 8,
      "metadata": {
        "colab": {
          "base_uri": "https://localhost:8080/"
        },
        "id": "ZiX9HH6prxFE",
        "outputId": "e64a9cf5-6c31-4301-daa2-23516949b682"
      },
      "outputs": [
        {
          "name": "stdout",
          "output_type": "stream",
          "text": [
            "\n",
            "Langkah 2: Membersihkan dan Melakukan Stemming Teks...\n",
            "\n",
            "Contoh hasil data preparation:\n",
            "                                                                                                                                                                                                                                                                 cleaned_text   konteks\n",
            "4                                                                                                                                                                                                                                  belum syuting aja dah liat banjir air mata  metafora\n",
            "10                                                                                                                                                                                                                    udh banjir sekitar by kyk bekas pas hujan krna air mata  metafora\n",
            "23                                                                                          rangin risiko banjir rob yang tinggal deket laut pasti familiar sama istilah ini nah mangrove bisa bantu banget buat nahan gelombang laut biar gak langsung ngacir ke mukim warga   bencana\n",
            "25                                                                                                                                       jadi apa dampak buat kita buat yang tinggal di kota besar ini reminder bahwa apa yang tanam di pesisir bisa ngaruh ke banjir di kota   bencana\n",
            "42  ooooo jadi kill joy tinggal terus di idupin lagi sama sage makanya raze nang banjir ampe cium cium kill joy ya pas idup lagi terus gara gara idupin kill joy sage sakit dan badan mulai ke freeze sama crystal dia yg ijo itu dan ada reyna yg coba nenangin sage ooooooo  metafora\n"
          ]
        }
      ],
      "source": [
        "# --- 2. DATA PREPARATION (CLEANING & STEMMING) ---\n",
        "print(\"\\nLangkah 2: Membersihkan dan Melakukan Stemming Teks...\")\n",
        "\n",
        "# Inisialisasi stemmer Sastrawi\n",
        "factory = StemmerFactory()\n",
        "stemmer = factory.create_stemmer()\n",
        "\n",
        "def preprocess_text(text):\n",
        "    \"\"\"Fungsi untuk membersihkan teks dan mengubahnya ke bentuk dasar (stemming).\"\"\"\n",
        "    text = text.lower()  # Mengubah ke huruf kecil\n",
        "    text = re.sub(r'http\\S+|www\\S+|https\\S+', '', text, flags=re.MULTILINE) # Menghilangkan URL\n",
        "    text = re.sub(r'\\@\\w+|\\#','', text) # Menghilangkan mention dan hashtag\n",
        "    text = re.sub(r'[^a-z\\s]', '', text) # Menghilangkan karakter non-alfabet\n",
        "    text = stemmer.stem(text) # Mengubah kata ke bentuk dasar\n",
        "    return text\n",
        "\n",
        "# Menerapkan fungsi pra-pemrosesan\n",
        "labeled_df['cleaned_text'] = labeled_df['text'].apply(preprocess_text)\n",
        "\n",
        "print(\"\\nContoh hasil data preparation:\")\n",
        "print(labeled_df[['cleaned_text', 'konteks']].head().to_string())\n"
      ]
    },
    {
      "cell_type": "code",
      "execution_count": 9,
      "metadata": {
        "colab": {
          "base_uri": "https://localhost:8080/"
        },
        "id": "hMkjckhmr0xp",
        "outputId": "6b2f6963-db2a-4ce6-de70-2342a2b9164e"
      },
      "outputs": [
        {
          "name": "stdout",
          "output_type": "stream",
          "text": [
            "\n",
            "Langkah 3: Membagi Data, Ekstraksi Fitur TF-IDF, dan Melatih Model...\n",
            "\n",
            "Model berhasil dilatih.\n"
          ]
        }
      ],
      "source": [
        "# --- 3. PEMBUATAN & PELATIHAN MODEL ---\n",
        "print(\"\\nLangkah 3: Membagi Data, Ekstraksi Fitur TF-IDF, dan Melatih Model...\")\n",
        "\n",
        "# Memisahkan data menjadi fitur (X) dan target (y)\n",
        "X = labeled_df['cleaned_text']\n",
        "y = labeled_df['konteks']\n",
        "\n",
        "# Membagi data menjadi data latih (80%) dan data uji (20%)\n",
        "X_train, X_test, y_train, y_test = train_test_split(\n",
        "    X, y, test_size=0.2, random_state=42, stratify=y\n",
        ")\n",
        "\n",
        "# Membuat pipeline yang menggabungkan TF-IDF dan model Regresi Logistik\n",
        "text_classification_pipeline = Pipeline([\n",
        "    ('tfidf', TfidfVectorizer(ngram_range=(1, 2))),  # Menggunakan unigram & bigram\n",
        "    ('clf', LogisticRegression(random_state=42, C=1.0, solver='liblinear')),\n",
        "])\n",
        "\n",
        "# Melatih model menggunakan data latih\n",
        "text_classification_pipeline.fit(X_train, y_train)\n",
        "print(\"\\nModel berhasil dilatih.\")"
      ]
    },
    {
      "cell_type": "code",
      "execution_count": 11,
      "metadata": {
        "colab": {
          "base_uri": "https://localhost:8080/",
          "height": 1000
        },
        "id": "mlftQcYAr7AN",
        "outputId": "776bb2b7-c6a2-4ce0-bb2e-24ebc65cb32a"
      },
      "outputs": [
        {
          "name": "stdout",
          "output_type": "stream",
          "text": [
            "\n",
            "Langkah 4: Mengevaluasi Kinerja Model...\n",
            "\n",
            "Laporan Klasifikasi Model:\n",
            "              precision    recall  f1-score   support\n",
            "\n",
            "     bencana       0.98      0.91      0.94       121\n",
            "    metafora       0.94      0.99      0.97       191\n",
            "\n",
            "    accuracy                           0.96       312\n",
            "   macro avg       0.96      0.95      0.96       312\n",
            "weighted avg       0.96      0.96      0.96       312\n",
            "\n"
          ]
        },
        {
          "data": {
            "image/png": "[encoded data removed]",
            "text/plain": [
              "<Figure size 600x500 with 2 Axes>"
            ]
          },
          "metadata": {},
          "output_type": "display_data"
        },
        {
          "name": "stdout",
          "output_type": "stream",
          "text": [
            "\n",
            "\n"
          ]
        },
        {
          "data": {
            "image/png": "[encoded data removed]",
            "text/plain": [
              "<Figure size 800x400 with 1 Axes>"
            ]
          },
          "metadata": {},
          "output_type": "display_data"
        }
      ],
      "source": [
        "# --- 4. EVALUASI MODEL ---\n",
        "print(\"\\nLangkah 4: Mengevaluasi Kinerja Model...\")\n",
        "\n",
        "# Memprediksi label untuk data uji\n",
        "y_pred = text_classification_pipeline.predict(X_test)\n",
        "\n",
        "# Menampilkan laporan klasifikasi (precision, recall, f1-score)\n",
        "print(\"\\nLaporan Klasifikasi Model:\")\n",
        "print(classification_report(y_test, y_pred))\n",
        "\n",
        "# Confusion Matrix\n",
        "cm = confusion_matrix(y_test, y_pred, labels=text_classification_pipeline.classes_)\n",
        "plt.figure(figsize=(6, 5))\n",
        "sns.heatmap(cm, annot=True, fmt='d', cmap='Blues',\n",
        "            xticklabels=text_classification_pipeline.classes_,\n",
        "            yticklabels=text_classification_pipeline.classes_)\n",
        "plt.xlabel(\"Predicted\")\n",
        "plt.ylabel(\"Actual\")\n",
        "plt.title(\"Confusion Matrix\")\n",
        "plt.tight_layout()\n",
        "plt.show()\n",
        "\n",
        "print(\"\\n\")\n",
        "\n",
        "# Plot precision, recall, F1-score per class\n",
        "report = classification_report(y_test, y_pred, output_dict=True)\n",
        "report_df = pd.DataFrame(report).transpose()\n",
        "plt.figure(figsize=(8, 4))\n",
        "metrics = ['precision', 'recall', 'f1-score']\n",
        "bar_width = 0.2\n",
        "for i, metric in enumerate(metrics):\n",
        "    values = [report_df.loc[label, metric] for label in text_classification_pipeline.classes_]\n",
        "    positions = [x + i * bar_width for x in range(len(values))]\n",
        "    plt.bar(positions, values, width=bar_width, label=metric)\n",
        "\n",
        "plt.xticks([r + bar_width for r in range(len(values))], text_classification_pipeline.classes_)\n",
        "plt.ylim(0, 1.1)\n",
        "plt.legend()\n",
        "plt.title(\"Evaluation Metrics per Class\")\n",
        "plt.ylabel(\"Score\")\n",
        "plt.tight_layout()\n",
        "plt.show()\n"
      ]
    },
    {
      "cell_type": "code",
      "execution_count": 14,
      "metadata": {
        "colab": {
          "base_uri": "https://localhost:8080/"
        },
        "id": "zBgLlLD1sFJx",
        "outputId": "304dba09-addd-456c-cdf8-1ca503f9f9cf"
      },
      "outputs": [
        {
          "name": "stdout",
          "output_type": "stream",
          "text": [
            "\n",
            "Langkah 5: Menggunakan Model untuk Memprediksi Tweet Baru...\n",
            "\n",
            "Hasil Prediksi:\n",
            "-> Tweet: \"Selamat! Semoga usahanya makin sukses dan banjir orderan!\"\n",
            "   Prediksi Konteks: METAFORA (Probabilitas: 56.42%)\n",
            "\n",
            "-> Tweet: \"Dilaporkan banjir bandang kembali melanda beberapa desa di kabupaten itu.\"\n",
            "   Prediksi Konteks: BENCANA (Probabilitas: 73.56%)\n",
            "\n",
            "-> Tweet: \"Aku nangis sampe banjir air mata nonton dramanya.\"\n",
            "   Prediksi Konteks: METAFORA (Probabilitas: 99.02%)\n",
            "\n",
            "-> Tweet: \"Banjir rob merendam ratusan rumah warga di kawasan pesisir.\"\n",
            "   Prediksi Konteks: BENCANA (Probabilitas: 94.88%)\n",
            "\n"
          ]
        }
      ],
      "source": [
        "# --- 5. MENGGUNAKAN MODEL UNTUK PREDIKSI BARU ---\n",
        "print(\"\\nLangkah 5: Menggunakan Model untuk Memprediksi Tweet Baru...\")\n",
        "\n",
        "# Siapkan beberapa contoh tweet baru\n",
        "tweet_baru = [\n",
        "    \"Selamat! Semoga usahanya makin sukses dan banjir orderan!\",\n",
        "    \"Dilaporkan banjir bandang kembali melanda beberapa desa di kabupaten itu.\",\n",
        "    \"Aku nangis sampe banjir air mata nonton dramanya.\",\n",
        "    \"Banjir rob merendam ratusan rumah warga di kawasan pesisir.\"\n",
        "]\n",
        "\n",
        "# Lakukan prediksi pada tweet baru\n",
        "prediksi_baru = text_classification_pipeline.predict(tweet_baru)\n",
        "prediksi_proba = text_classification_pipeline.predict_proba(tweet_baru)\n",
        "\n",
        "# Tampilkan hasil prediksi\n",
        "print(\"\\nHasil Prediksi:\")\n",
        "for i, tweet in enumerate(tweet_baru):\n",
        "    konteks_terprediksi = prediksi_baru[i]\n",
        "    # Mencari probabilitas untuk kelas yang diprediksi\n",
        "    kelas_index = list(text_classification_pipeline.classes_).index(konteks_terprediksi)\n",
        "    probabilitas = prediksi_proba[i][kelas_index]\n",
        "\n",
        "    print(f'-> Tweet: \"{tweet}\"')\n",
        "    print(f'   Prediksi Konteks: {konteks_terprediksi.upper()} (Probabilitas: {probabilitas:.2%})\\n')\n"
      ]
    },
    {
      "cell_type": "code",
      "execution_count": 15,
      "metadata": {
        "colab": {
          "base_uri": "https://localhost:8080/"
        },
        "id": "giIRRk63Zz3v",
        "outputId": "1d3b81b1-ae64-42b6-dcd2-d46157f290a2"
      },
      "outputs": [
        {
          "name": "stdout",
          "output_type": "stream",
          "text": [
            "Model disimpan ke flood_tweet_model.pkl\n"
          ]
        }
      ],
      "source": [
        "import joblib\n",
        "\n",
        "# Simpan pipeline model\n",
        "joblib.dump(text_classification_pipeline, '../flood_tweet_model.pkl')\n",
        "print(\"Model disimpan ke flood_tweet_model.pkl\")"
      ]
    },
    {
      "cell_type": "markdown",
      "metadata": {
        "id": "6YzGWVB8Z5BU"
      },
      "source": []
    }
  ],
  "metadata": {
    "colab": {
      "provenance": []
    },
    "kernelspec": {
      "display_name": "klasifikasi-tweet-banjir",
      "language": "python",
      "name": "python3"
    },
    "language_info": {
      "codemirror_mode": {
        "name": "ipython",
        "version": 3
      },
      "file_extension": ".py",
      "mimetype": "text/x-python",
      "name": "python",
      "nbconvert_exporter": "python",
      "pygments_lexer": "ipython3",
      "version": "3.11.13"
    }
  },
  "nbformat": 4,
  "nbformat_minor": 0
}
